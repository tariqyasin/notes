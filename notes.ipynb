{
 "cells": [
  {
   "cell_type": "markdown",
   "metadata": {},
   "source": [
    "# Abundance Matching"
   ]
  },
  {
   "cell_type": "markdown",
   "metadata": {},
   "source": [
    "### Galaxy stellar mass functions\n",
    "I initially carried out Abundance Matching using the Bernardi et. al 2013 GSMF and GLF. However this only contains data down to $10^9 M_\\odot$. For a scatter in the HMSM relationship of 0.2 this means anything above ~ $5 \\times 10^9 M_\\odot$ is unreliable. The Bernardi function does not behave well when extrapolated to low mass either - it actually turns over and begins decreasing.\n",
    "\n",
    "The GSMF from Baldry 2012 has good data down to $10^8 M_\\odot$. The Baldry function is also derived from Sersic r-band magnitudes, and is consistent with the Bernardi function in the middle mass range, for which good data exists for both. "
   ]
  },
  {
   "cell_type": "markdown",
   "metadata": {},
   "source": [
    "![](images/baldry_and_bernardi.png)\n",
    "**Fig: Galaxy stellar mass functions from literature.**"
   ]
  },
  {
   "cell_type": "markdown",
   "metadata": {},
   "source": [
    "The literature is mostly concerned about the accuracy of the high end of the GSMF, where disagreement is very noticeable (see Bernardi 2013). The Bernardi function is possibly more accurate at high mass due to their efforts to account for the background of massive extended galaxies.\n",
    "\n",
    "For the low mass end there seems to be a decent amount of confidence in the Baldry 2012 result. I adopt a composite of the Bernardi and Baldry stellar mass functions, switching to Baldry below $10^9 M_\\odot$. This is similar to the method of by Kravtsov et. al 2018, except they use a combination of Baldry and Papastergis et al. (2012). Papastergis has measurements down to  $10^7 M_\\odot$. Sedgewick et. al 2019 also try and probe this down to similarly low mass, using a core-collapse supernova catalogue to take a sample of low surface brightness galaxies. They find that the number count down to $10^7 M_\\odot$ is similar to extrapolating Baldry 2012.\n"
   ]
  },
  {
   "cell_type": "markdown",
   "metadata": {},
   "source": [
    "Compare this with the results from the review of galaxy-halo connection by Wechsler et. al below. This is for central galaxies only. Removing subhalos does not make a significant difference, partly because 75% of the halos in the catalogue are central galaxies."
   ]
  },
  {
   "cell_type": "markdown",
   "metadata": {},
   "source": [
    "<table><tr>\n",
    "<td> <img src=\"images/dark400_comp.png\" alt=\"Drawing\" style=\"width: 400px;\"/> </td>    \n",
    "<td> <img src=\"images/wechsler_efficiency.png\" alt=\"Drawing\" style=\"width: 600px;\"/> </td>\n",
    "</tr></table>\n",
    "\n",
    "**Left fig: Galaxy formation efficiency from subhalo abundance matching for a single catalogue using the proxy of Lehmann et. al. with alpha = 0.57, 0.17 scatter, Darksky400 and Baldry + Bernadi composite SMF. The histogram shows all halos, with the lines showing statistics for each halo mass bin. The catalogue is cutoff at  $10^7 M_\\odot$.\n",
    "Right fig: Empirical models from literature for comparison.** "
   ]
  },
  {
   "cell_type": "markdown",
   "metadata": {},
   "source": [
    "My figure is only generated from a single catalogue, but I found the statistics did not vary between them.\n",
    "\n",
    "Differences between my result and literature:\n",
    "- The peak efficiency occurs at lower halo mass in literature (just below $10^{12} M_\\odot$), compared to ~$10^{12} M_\\odot$ for mine.\n",
    "- The higher end begins at a higher efficiency for me. I suspect this is because I am using the Bernardi 2013 SMF at the high mass end.\n",
    "- After peak effiency, my plot drops off much quicker towards lower masses. By $10^11 M_\\odot$ my efficiency is -3.7. But for the others it is above -3.\n",
    "\n",
    "Possible causes:\n",
    "- Different SMFs.\n",
    "- Different halo catalogues.\n",
    "- Different proxies.\n",
    "- Considering all galaxies vs central galaxies.\n",
    "\n",
    "The three direct AM results from the review are:\n",
    "\n",
    "|   | Catalogue  |  SMF | Proxy  | Method  |\n",
    "|---|---|---|---|---|\n",
    "| Behroozi 2010  | Use analytic HMF Tinker et al. (2008)   |  | Halo mass  |   |\n",
    "| Behroozi 2013 | Mainly bolshoi - find it matches Tinker perfectly | Fit to Baldry 2012 at z=0, but correct for Dust model, Sample Variance), Surface Brightness incompleteness. See their table 3.  | Halo mass  |   |\n",
    "| Reddick 2013  | Bolshoi  | Use SMF of sample they are matching to  | Vmax@Mpeak  | Also cut 'disrupted subhalos'  |"
   ]
  },
  {
   "cell_type": "markdown",
   "metadata": {},
   "source": [
    "Therefore it makes sense for me to try 1) the Bolshoi simulation 2) use halo mass instead 3) Baldry 2012. 4) Using central galaxies only."
   ]
  },
  {
   "cell_type": "markdown",
   "metadata": {},
   "source": [
    "<table><tr>\n",
    "<td> <img src=\"images/bolshoi_comp.png\" alt=\"Drawing\" style=\"width: 500px;\"/> </td>    \n",
    "<td> <img src=\"images/bolshoi_baldry.png\" alt=\"Drawing\" style=\"width: 500px;\"/> </td>\n",
    "</tr></table>\n",
    "\n",
    "**Fig: Left: SHAM wih Bolshoi catalogue and my composite SMF. Right: Bolshoi catalogue with Baldry SMF.**"
   ]
  },
  {
   "cell_type": "markdown",
   "metadata": {},
   "source": [
    "Using the Baldry SMF makes my results match those from the literature review well at the high end. Using the Bolshoi simulation increases the formation effiency at the low end slightly, bringing my results slightly closer to the literature. This makes sense as there are fewer resolved low mass halos (~10 $M_\\odot$ in the Bolshoi simulations). I found changing the proxy does not make a significant difference, or removing non-central galaxies."
   ]
  },
  {
   "cell_type": "markdown",
   "metadata": {},
   "source": [
    "The only other thing I can see that may not be right is that there are remainders after doing the deconvolution i.e.\n",
    "\n",
    "```remainder = af.deconvolute(scatter, 20)\n",
    "x, nd = af.get_number_density_table()\n",
    "plt.plot(x, remainder/nd)```"
   ]
  },
  {
   "cell_type": "markdown",
   "metadata": {},
   "source": [
    "<table><tr>\n",
    "<td> <img src=\"images/comp_remainder.png\" alt=\"Drawing\" style=\"width: 400px;\"/> </td>    \n",
    "<td> <img src=\"images/baldry_remainder.png\" alt=\"Drawing\" style=\"width: 400px;\"/> </td>\n",
    "</tr></table>\n",
    "\n",
    "**Fig: Left to right: Remainder after deconvolution for composite SMF, Baldry SMF, Bernardi SMF.**"
   ]
  },
  {
   "cell_type": "markdown",
   "metadata": {},
   "source": [
    "**Solution**: All simulation box lengths are given in units of Mpc/h. I had not included the factor of h in the abundance matching code."
   ]
  },
  {
   "cell_type": "markdown",
   "metadata": {},
   "source": [
    "<table><tr>\n",
    "<td> <img src=\"images/bolshoi_baldry_fixed.png\" alt=\"Drawing\" style=\"width: 500px;\"/> </td>\n",
    "<td> <img src=\"images/fixedh.png\" alt=\"Drawing\" style=\"width: 500px;\"/> </td>    \n",
    "</tr></table>\n",
    "\n",
    "**Fig: Correctly working SHAM (with factor of h fixed). Left: Bolshoi + Baldry. Right: Darksky400h^-1 + Composite mass function.**"
   ]
  },
  {
   "cell_type": "markdown",
   "metadata": {},
   "source": [
    "## Comparing kinematics and abundance matching with NFW\n",
    "\n",
    "I began using Bernardi SMF and using Sersic mass from the SLOAN/ATLAS catalogue. For the kinematics I used the full SPARC rotation curve.\n",
    "\n",
    "<table><tr>\n",
    "<td> <img src=\"images/amkin_mstar_mvir.png\" alt=\"Drawing\" style=\"width: 500px;\"/> </td>    \n",
    "<td> <img src=\"images/amkin_mstar_conc.png\" alt=\"Drawing\" style=\"width: 500px;\"/> </td>\n",
    "</tr></table>\n"
   ]
  },
  {
   "cell_type": "markdown",
   "metadata": {},
   "source": [
    "![](images/amkin_conc_mvir.png)\n",
    "****"
   ]
  },
  {
   "cell_type": "markdown",
   "metadata": {},
   "source": [
    "The distribution of concentrations looks lower than expected from Mvir-Conc. "
   ]
  },
  {
   "cell_type": "markdown",
   "metadata": {},
   "source": [
    "![](images/mvir_conc_darksky.png)\n",
    "**Fig:Histogram of mvir-conc from Darksky400. The 16th,50th and 84th percentiles are plotted for each bin.**"
   ]
  },
  {
   "cell_type": "markdown",
   "metadata": {},
   "source": [
    "## Comparing summary stats"
   ]
  },
  {
   "cell_type": "markdown",
   "metadata": {},
   "source": [
    "Comparison of summary stats for the galaxy NGC2998."
   ]
  },
  {
   "cell_type": "markdown",
   "metadata": {},
   "source": [
    "<table><tr>\n",
    "<td> <img src=\"images/NGC2998_stats.png\" alt=\"Drawing\" style=\"width: 500px;\"/> </td>    \n",
    "<td> <img src=\"images/NGC2998_stats_dm.png\" alt=\"Drawing\" style=\"width: 500px;\"/> </td>\n",
    "</tr></table>\n",
    "\n",
    "**Fig: Fits to kinematics using different summary statistics.**\n"
   ]
  },
  {
   "cell_type": "markdown",
   "metadata": {},
   "source": [
    "### Multinest "
   ]
  },
  {
   "cell_type": "markdown",
   "metadata": {},
   "source": [
    "![](images/compare_mc.png)\n",
    "**Fig: A comparison of Emcee and Multinest for the galaxy F561-1 with flat priors on mass-conc and M2L. Made using getdist. The first 30% of rows are ignored as burn in, then thinned to give the required number of samples.  \n",
    "Black line - Emcee w/ 56000 samples plotted   \n",
    "Red line - Emcee w/ 5600 samples plotted  \n",
    "Blue line - Emcee w/ 560 samples plotted  \n",
    "Green line - Multinest with default settings**"
   ]
  },
  {
   "cell_type": "markdown",
   "metadata": {},
   "source": [
    "![](images/test5.png)\n",
    "**Fig: A comparison of different MN settings for galaxy F561-1  \n",
    "Black - emcee w/ 56000 samples  \n",
    "Red - tolerance=0.5,points=400,sampling_efficiency=0.3  \n",
    "Blue - tolerance=0.1,points=400,sampling_efficiency=0.3  \n",
    "Green - tolerance=0.01,points=400,sampling_efficiency=0.3  \n",
    "Pink - tolerance=0.001,points=400,sampling_efficiency=0.3  \n",
    "Cyan - tolerance=0.5,points=2000,sampling_efficiency=0.3  \n",
    "Yellow - tolerance=0.5,points=4000,sampling_efficiency=0.3**"
   ]
  },
  {
   "cell_type": "markdown",
   "metadata": {},
   "source": [
    "I have trouble getting Multinest to converge despite having set sampling efficiency, live points and likelihood tolerance to strict values. Emcee on the other hand seems stable. Multinest seems to struggle when the posterior is very flat and off centre from the prior. This makes sense as Multinest weights the active points by the prior."
   ]
  },
  {
   "cell_type": "markdown",
   "metadata": {},
   "source": [
    "### Abundance matching as MCMC"
   ]
  },
  {
   "cell_type": "markdown",
   "metadata": {},
   "source": [
    "The slow step in the algorithm is looking up halo values (mass,conc) in the catalogue."
   ]
  },
  {
   "cell_type": "code",
   "execution_count": null,
   "metadata": {},
   "outputs": [],
   "source": [
    "# mass in column 0, conc in column 1, mstar in column 2\n",
    "cat[:,2][np.argmin((cat[:,0] - mvir)**2 + (cat[:,1] - conc)**2)]"
   ]
  },
  {
   "cell_type": "code",
   "execution_count": null,
   "metadata": {},
   "outputs": [],
   "source": []
  }
 ],
 "metadata": {
  "kernelspec": {
   "display_name": "Python 3",
   "language": "python",
   "name": "python3"
  },
  "language_info": {
   "codemirror_mode": {
    "name": "ipython",
    "version": 3
   },
   "file_extension": ".py",
   "mimetype": "text/x-python",
   "name": "python",
   "nbconvert_exporter": "python",
   "pygments_lexer": "ipython3",
   "version": "3.6.9"
  }
 },
 "nbformat": 4,
 "nbformat_minor": 2
}
